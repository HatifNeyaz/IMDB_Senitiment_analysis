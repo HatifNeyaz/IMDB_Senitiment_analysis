{
 "cells": [
  {
   "cell_type": "code",
   "execution_count": 1,
   "id": "c6ca5cf9",
   "metadata": {},
   "outputs": [],
   "source": [
    "import pandas as pd\n",
    "import numpy as np\n",
    "import matplotlib.pyplot as plt\n",
    "from sklearn.model_selection import train_test_split\n",
    "from sklearn.metrics import accuracy_score\n",
    "from sklearn.ensemble import RandomForestClassifier\n",
    "from sklearn.feature_extraction.text import CountVectorizer"
   ]
  },
  {
   "cell_type": "markdown",
   "id": "df535fa9",
   "metadata": {},
   "source": [
    "# Train"
   ]
  },
  {
   "cell_type": "code",
   "execution_count": 2,
   "id": "a918add2",
   "metadata": {},
   "outputs": [],
   "source": [
    "data_tr = pd.read_csv(\"Train.csv\")"
   ]
  },
  {
   "cell_type": "code",
   "execution_count": 3,
   "id": "ae376e64",
   "metadata": {},
   "outputs": [],
   "source": [
    "x_tr = data_tr[\"text\"]\n",
    "y_tr = data_tr[\"label\"]"
   ]
  },
  {
   "cell_type": "markdown",
   "id": "54e053d7",
   "metadata": {},
   "source": [
    "# Validation"
   ]
  },
  {
   "cell_type": "code",
   "execution_count": 4,
   "id": "3489b952",
   "metadata": {},
   "outputs": [],
   "source": [
    "data_vld = pd.read_csv(\"Valid.csv\")\n",
    "x_vld = data_vld[\"text\"]\n",
    "y_vld = data_vld[\"label\"]"
   ]
  },
  {
   "cell_type": "code",
   "execution_count": 5,
   "id": "18df162e",
   "metadata": {},
   "outputs": [
    {
     "data": {
      "text/plain": [
       "(5000, 2)"
      ]
     },
     "execution_count": 5,
     "metadata": {},
     "output_type": "execute_result"
    }
   ],
   "source": [
    "data_vld.shape"
   ]
  },
  {
   "cell_type": "markdown",
   "id": "50865bd7",
   "metadata": {},
   "source": [
    "# Test"
   ]
  },
  {
   "cell_type": "code",
   "execution_count": 6,
   "id": "5017d308",
   "metadata": {},
   "outputs": [],
   "source": [
    "data_test = pd.read_csv(\"Test.csv\")\n",
    "x_test = data_test[\"text\"]\n",
    "y_test = data_test[\"label\"]"
   ]
  },
  {
   "cell_type": "markdown",
   "id": "1bc98779",
   "metadata": {},
   "source": [
    "# Vectorize the text data"
   ]
  },
  {
   "cell_type": "code",
   "execution_count": 7,
   "id": "4e1d6fc7",
   "metadata": {},
   "outputs": [],
   "source": [
    "vectorizer = CountVectorizer()\n",
    "x_train_vec = vectorizer.fit_transform(x_tr)\n",
    "x_vld_vec = vectorizer.transform(x_vld)\n",
    "x_test_vec = vectorizer.transform(x_test)"
   ]
  },
  {
   "cell_type": "code",
   "execution_count": 8,
   "id": "043edafc",
   "metadata": {},
   "outputs": [
    {
     "data": {
      "text/plain": [
       "RandomForestClassifier()"
      ]
     },
     "execution_count": 8,
     "metadata": {},
     "output_type": "execute_result"
    }
   ],
   "source": [
    "model = RandomForestClassifier()\n",
    "model.fit(x_train_vec, y_tr)"
   ]
  },
  {
   "cell_type": "code",
   "execution_count": 9,
   "id": "42527ec6",
   "metadata": {},
   "outputs": [],
   "source": [
    "y_val_pred = model.predict(x_vld_vec)"
   ]
  },
  {
   "cell_type": "code",
   "execution_count": 10,
   "id": "f080fe66",
   "metadata": {},
   "outputs": [],
   "source": [
    "validation_acc = accuracy_score(y_vld, y_val_pred)"
   ]
  },
  {
   "cell_type": "code",
   "execution_count": 11,
   "id": "0af1b00c",
   "metadata": {},
   "outputs": [
    {
     "data": {
      "text/plain": [
       "0.8512"
      ]
     },
     "execution_count": 11,
     "metadata": {},
     "output_type": "execute_result"
    }
   ],
   "source": [
    "validation_acc"
   ]
  },
  {
   "cell_type": "code",
   "execution_count": 12,
   "id": "2f6c7195",
   "metadata": {},
   "outputs": [],
   "source": [
    "y_test_pred = model.predict(x_test_vec)"
   ]
  },
  {
   "cell_type": "code",
   "execution_count": 13,
   "id": "a31d7d59",
   "metadata": {},
   "outputs": [],
   "source": [
    "test_accuracy = accuracy_score(y_test, y_test_pred)"
   ]
  },
  {
   "cell_type": "code",
   "execution_count": 14,
   "id": "bc069f97",
   "metadata": {},
   "outputs": [
    {
     "data": {
      "text/plain": [
       "0.851"
      ]
     },
     "execution_count": 14,
     "metadata": {},
     "output_type": "execute_result"
    }
   ],
   "source": [
    "test_accuracy"
   ]
  },
  {
   "cell_type": "markdown",
   "id": "a7b705a3",
   "metadata": {},
   "source": [
    "# Accuracy score = 85.1%"
   ]
  },
  {
   "cell_type": "code",
   "execution_count": null,
   "id": "2954ed2e",
   "metadata": {},
   "outputs": [],
   "source": []
  }
 ],
 "metadata": {
  "kernelspec": {
   "display_name": "Python 3",
   "language": "python",
   "name": "python3"
  },
  "language_info": {
   "codemirror_mode": {
    "name": "ipython",
    "version": 3
   },
   "file_extension": ".py",
   "mimetype": "text/x-python",
   "name": "python",
   "nbconvert_exporter": "python",
   "pygments_lexer": "ipython3",
   "version": "3.8.8"
  }
 },
 "nbformat": 4,
 "nbformat_minor": 5
}
